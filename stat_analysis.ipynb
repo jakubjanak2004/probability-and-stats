{
 "cells": [
  {
   "metadata": {},
   "cell_type": "markdown",
   "source": [
    "# Analysis of distribution\n",
    "\n",
    "Now let's analyze the distribution of the generated random doubles.\n",
    "\n",
    "## Method of Moments(MoM)\n",
    "\n",
    "Using the first-moment being the expected value $\\mathbb{E}X$ the MoM works like this: \n",
    "\n",
    "$$ \n",
    "\\mathbb{E}X = \\hat{X}_n \\\\\n",
    "\\operatorname{Var}(X) = \\hat{S}_n\n",
    "$$\n",
    "\n",
    "in case of Uniform distribution that we use in method next_double_from_to the:\n",
    "\n",
    "$$\n",
    "\\mathbb{E}X = \\frac{a + b}{2} \\\\\n",
    "\\operatorname{Var}(X) = \\frac{(b - a)^2}{12}\n",
    "$$\n",
    "\n",
    "we set equations\n",
    "\n",
    "$$\n",
    "\\frac{\\hat{a} + \\hat{b}}{2} = \\hat{X}_n \\\\\n",
    "\\frac{(\\hat{b} - \\hat{a})^2}{12} = \\hat{S}_n\n",
    "$$\n",
    "\n",
    "by solving for $\\hat{a}$ and $\\hat{b}$ we obtain\n",
    "\n",
    "$$\n",
    "\\hat{a} = \\hat{X}_n - \\sqrt{3\\hat{S}_n} \\\\\n",
    "\\hat{b} = \\hat{X}_n + \\sqrt{3\\hat{S}_n}\n",
    "$$\n",
    "\n",
    "our expectations are\n",
    "\n",
    "$$\n",
    "\\hat{a} = 0 \\\\\n",
    "\\hat{b} = 100\n",
    "$$"
   ],
   "id": "c39e216fc9f6bdd9"
  },
  {
   "metadata": {
    "ExecuteTime": {
     "end_time": "2025-05-12T12:52:04.318692Z",
     "start_time": "2025-05-12T12:52:04.181230Z"
    }
   },
   "cell_type": "code",
   "source": [
    "X_hat1 = random_doubles_lc.mean()\n",
    "S_hat1 = random_doubles_lc.var()\n",
    "X_hat2 = random_doubles_big_numbers.mean()\n",
    "S_hat2 = random_doubles_big_numbers.var()\n",
    "\n",
    "a_hat1 = X_hat1 - math.sqrt(3 * S_hat1)\n",
    "b_hat1 = X_hat1 + math.sqrt(3 * S_hat1)\n",
    "a_hat2 = X_hat2 - math.sqrt(3 * S_hat2)\n",
    "b_hat2 = X_hat2 + math.sqrt(3 * S_hat2)\n",
    "\n",
    "print('Parameters for small number of values generated')\n",
    "print('a_hat =', a_hat1)\n",
    "print('b_hat =', b_hat1)\n",
    "print('\\nParameters for big number of values generated')\n",
    "print('a_hat =', a_hat2)\n",
    "print('b_hat =', b_hat2)"
   ],
   "id": "6a1adc6bd74db921",
   "outputs": [
    {
     "ename": "NameError",
     "evalue": "name 'random_doubles_lc' is not defined",
     "output_type": "error",
     "traceback": [
      "\u001B[31m---------------------------------------------------------------------------\u001B[39m",
      "\u001B[31mNameError\u001B[39m                                 Traceback (most recent call last)",
      "\u001B[36mCell\u001B[39m\u001B[36m \u001B[39m\u001B[32mIn[2]\u001B[39m\u001B[32m, line 1\u001B[39m\n\u001B[32m----> \u001B[39m\u001B[32m1\u001B[39m X_hat1 = \u001B[43mrandom_doubles_lc\u001B[49m.mean()\n\u001B[32m      2\u001B[39m S_hat1 = random_doubles_lc.var()\n\u001B[32m      3\u001B[39m X_hat2 = random_doubles_big_numbers.mean()\n",
      "\u001B[31mNameError\u001B[39m: name 'random_doubles_lc' is not defined"
     ]
    }
   ],
   "execution_count": 2
  },
  {
   "metadata": {},
   "cell_type": "markdown",
   "source": [
    "## Generating values from exponential distribution\n",
    "\n",
    "Now we are going to generate values from exponential distribution using the Generator object."
   ],
   "id": "bcc41210614aa4d9"
  },
  {
   "metadata": {
    "ExecuteTime": {
     "end_time": "2025-05-12T12:52:15.933324Z",
     "start_time": "2025-05-12T12:52:15.919451Z"
    }
   },
   "cell_type": "code",
   "source": "random_exp_values = np.array([lc_gen.next_from_exp(1.5) for _ in range(0, n2)])",
   "id": "63c12f3c379d02ec",
   "outputs": [
    {
     "ename": "NameError",
     "evalue": "name 'np' is not defined",
     "output_type": "error",
     "traceback": [
      "\u001B[31m---------------------------------------------------------------------------\u001B[39m",
      "\u001B[31mNameError\u001B[39m                                 Traceback (most recent call last)",
      "\u001B[36mCell\u001B[39m\u001B[36m \u001B[39m\u001B[32mIn[4]\u001B[39m\u001B[32m, line 1\u001B[39m\n\u001B[32m----> \u001B[39m\u001B[32m1\u001B[39m random_exp_values = \u001B[43mnp\u001B[49m.array([lc_gen.next_from_exp(\u001B[32m1.5\u001B[39m) \u001B[38;5;28;01mfor\u001B[39;00m _ \u001B[38;5;129;01min\u001B[39;00m \u001B[38;5;28mrange\u001B[39m(\u001B[32m0\u001B[39m, n2)])\n",
      "\u001B[31mNameError\u001B[39m: name 'np' is not defined"
     ]
    }
   ],
   "execution_count": 4
  },
  {
   "metadata": {
    "ExecuteTime": {
     "end_time": "2025-05-12T12:52:20.132644Z",
     "start_time": "2025-05-12T12:52:20.119030Z"
    }
   },
   "cell_type": "code",
   "source": "generate_graphs_for_data(random_exp_values)",
   "id": "f6cc335fc3bfb816",
   "outputs": [
    {
     "ename": "NameError",
     "evalue": "name 'generate_graphs_for_data' is not defined",
     "output_type": "error",
     "traceback": [
      "\u001B[31m---------------------------------------------------------------------------\u001B[39m",
      "\u001B[31mNameError\u001B[39m                                 Traceback (most recent call last)",
      "\u001B[36mCell\u001B[39m\u001B[36m \u001B[39m\u001B[32mIn[5]\u001B[39m\u001B[32m, line 1\u001B[39m\n\u001B[32m----> \u001B[39m\u001B[32m1\u001B[39m \u001B[43mgenerate_graphs_for_data\u001B[49m(random_exp_values)\n",
      "\u001B[31mNameError\u001B[39m: name 'generate_graphs_for_data' is not defined"
     ]
    }
   ],
   "execution_count": 5
  },
  {
   "metadata": {},
   "cell_type": "markdown",
   "source": [
    "## Method of Moments (MoM) for Exponential Distribution\n",
    "\n",
    "Let \\( X \\sim \\text{Exp}(\\lambda) \\).\n",
    "\n",
    "We know the moments of the exponential distribution:\n",
    "\n",
    "$$\n",
    "\\mathbb{E}X = \\frac{1}{\\lambda}, \\quad\n",
    "\\operatorname{Var}(X) = \\frac{1}{\\lambda^2}\n",
    "$$\n",
    "\n",
    "From the sample, we estimate:\n",
    "\n",
    "$$\n",
    "\\mathbb{E}X \\approx \\bar{X}_n, \\quad\n",
    "\\operatorname{Var}(X) \\approx S_n^2\n",
    "$$\n",
    "\n",
    "So the method of moments estimator for \\( \\lambda \\) is:\n",
    "\n",
    "$$\n",
    "\\hat{\\lambda}_{\\text{MoM}} = \\frac{1}{\\bar{X}_n}\n",
    "$$\n",
    "\n",
    "or (less commonly, based on the variance):\n",
    "\n",
    "$$\n",
    "\\hat{\\lambda}_{\\text{MoM}} = \\frac{1}{\\sqrt{S_n^2}}\n",
    "$$\n",
    "\n",
    "The expectation is for the $\\hat{\\lambda}$ to be 1.5"
   ],
   "id": "f463ac009263d18"
  },
  {
   "metadata": {
    "ExecuteTime": {
     "end_time": "2025-05-12T12:52:40.346271Z",
     "start_time": "2025-05-12T12:52:40.332090Z"
    }
   },
   "cell_type": "code",
   "source": [
    "lmbda1 = 1 / random_exp_values.mean()\n",
    "lmbda2 = 1 / math.sqrt(random_exp_values.var())\n",
    "\n",
    "print('lambda calculated from expected value =', lmbda1)\n",
    "print('lambda calculated from variance =', lmbda2)"
   ],
   "id": "a50ae97985bb3516",
   "outputs": [
    {
     "ename": "NameError",
     "evalue": "name 'random_exp_values' is not defined",
     "output_type": "error",
     "traceback": [
      "\u001B[31m---------------------------------------------------------------------------\u001B[39m",
      "\u001B[31mNameError\u001B[39m                                 Traceback (most recent call last)",
      "\u001B[36mCell\u001B[39m\u001B[36m \u001B[39m\u001B[32mIn[7]\u001B[39m\u001B[32m, line 1\u001B[39m\n\u001B[32m----> \u001B[39m\u001B[32m1\u001B[39m lmbda1 = \u001B[32m1\u001B[39m / \u001B[43mrandom_exp_values\u001B[49m.mean()\n\u001B[32m      2\u001B[39m lmbda2 = \u001B[32m1\u001B[39m / math.sqrt(random_exp_values.var())\n\u001B[32m      4\u001B[39m \u001B[38;5;28mprint\u001B[39m(\u001B[33m'\u001B[39m\u001B[33mlambda calculated from expected value =\u001B[39m\u001B[33m'\u001B[39m, lmbda1)\n",
      "\u001B[31mNameError\u001B[39m: name 'random_exp_values' is not defined"
     ]
    }
   ],
   "execution_count": 7
  },
  {
   "metadata": {},
   "cell_type": "markdown",
   "source": [
    "## Maximum Likelihood Estimation (MLE)\n",
    "\n",
    "We define Maximum Likelihood Estimation for the single-parameter case \\( \\theta \\).\n",
    "\n",
    "### Discrete case:\n",
    "\n",
    "$$\n",
    "\\begin{aligned}\n",
    "1. \\quad & \\mathcal{L}(\\theta) = \\prod_{i=1}^{n} P_\\theta(X = x_i) \\\\\n",
    "2. \\quad & \\ell(\\theta) = \\sum_{i=1}^{n} \\log\\left(P_\\theta(X = x_i)\\right) \\\\\n",
    "3. \\quad & \\frac{\\partial \\ell(\\theta)}{\\partial \\theta} = 0 \\\\\n",
    "4. \\quad & \\hat{\\theta} \\text{ is the solution}\n",
    "\\end{aligned}\n",
    "$$\n",
    "\n",
    "## Continuous case:\n",
    "\n",
    "$$\n",
    "\\begin{aligned}\n",
    "1. \\quad & \\mathcal{L}(\\theta) = \\prod_{i=1}^{n} f_\\theta(x_i) \\\\\n",
    "2. \\quad & \\ell(\\theta) = \\sum_{i=1}^{n} \\log\\left(f_\\theta(x_i)\\right) \\\\\n",
    "3. \\quad & \\frac{\\partial \\ell(\\theta)}{\\partial \\theta} = 0 \\\\\n",
    "4. \\quad & \\hat{\\theta} \\text{ is the solution}\n",
    "\\end{aligned}\n",
    "$$\n",
    "\n",
    "We will use the **continuous case** to analyze values generated from the exponential distribution, since it is a continuous distribution.\n",
    "\n",
    "In the case of the exponential distribution, both the **Method of Moments** and the **Maximum Likelihood Estimation** lead to the **same estimator**:\n",
    "\n",
    "$$\n",
    "\\hat{\\lambda} = \\frac{1}{\\bar{X}}\n",
    "$$\n",
    "\n",
    "This happens because the exponential distribution has only one parameter and its first moment (mean) uniquely determines the distribution.\n"
   ],
   "id": "52cee31720aab22d"
  },
  {
   "metadata": {},
   "cell_type": "code",
   "outputs": [],
   "execution_count": null,
   "source": "",
   "id": "6471a89b2b8e9323"
  }
 ],
 "metadata": {
  "kernelspec": {
   "display_name": "Python 3",
   "language": "python",
   "name": "python3"
  },
  "language_info": {
   "codemirror_mode": {
    "name": "ipython",
    "version": 2
   },
   "file_extension": ".py",
   "mimetype": "text/x-python",
   "name": "python",
   "nbconvert_exporter": "python",
   "pygments_lexer": "ipython2",
   "version": "2.7.6"
  }
 },
 "nbformat": 4,
 "nbformat_minor": 5
}
