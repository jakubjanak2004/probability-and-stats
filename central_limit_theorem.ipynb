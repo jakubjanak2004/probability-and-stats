{
 "cells": [
  {
   "cell_type": "code",
   "execution_count": 10,
   "id": "391802219842d36f",
   "metadata": {
    "ExecuteTime": {
     "end_time": "2025-05-08T14:01:37.215411Z",
     "start_time": "2025-05-08T14:01:37.213436Z"
    }
   },
   "source": [
    "import numpy as np\n",
    "import matplotlib.pyplot as plt\n",
    "import math\n",
    "from matplotlib.animation import FuncAnimation\n",
    "from IPython.display import HTML\n",
    "from generator import LCGenerator"
   ],
   "outputs": []
  },
  {
   "cell_type": "code",
   "execution_count": 11,
   "id": "65d63d7b7aba7959",
   "metadata": {
    "ExecuteTime": {
     "end_time": "2025-05-08T14:01:37.437835Z",
     "start_time": "2025-05-08T14:01:37.436003Z"
    }
   },
   "source": "gen = LCGenerator(12345)",
   "outputs": []
  },
  {
   "cell_type": "markdown",
   "id": "8a2349bc4b4fe758",
   "metadata": {},
   "source": [
    "# Central Limit Theorem\n",
    "\n",
    "## Levy-Lindberg CLT\n",
    "\n",
    "Let us have $X1, X2, ..., Xn$ independent random variables generated from the same probability distribution.\n",
    "\n",
    "Then:\n",
    "\n",
    "$$\n",
    "Z_n = \\frac{\\sum_{k=1}^{n} X_k - n\\mu}{\\sqrt{n\\sigma^2}} \n",
    "$$\n",
    "\n",
    "converges in distribution to the standard normal distribution:\n",
    "\n",
    "$$\n",
    "Z_n \\xrightarrow{d} \\mathcal{N}(0, 1)\n",
    "$$\n",
    "\n",
    "Where $\\mu$ is expected value of the distribution of random values and $\\sigma^2$ is the variance. \n",
    "\n",
    "For Poisson distribution the $\\sum_{k=1}^{n} X_k$ converges to the $\\mathcal{N}(n\\lambda, n\\lambda)$."
   ]
  },
  {
   "cell_type": "code",
   "execution_count": 12,
   "id": "701c374f101543de",
   "metadata": {
    "ExecuteTime": {
     "end_time": "2025-05-08T14:01:37.499415Z",
     "start_time": "2025-05-08T14:01:37.497586Z"
    }
   },
   "source": [
    "num_of_samples = 100_000\n",
    "n = 10\n",
    "lmbda = 8"
   ],
   "outputs": []
  },
  {
   "cell_type": "code",
   "execution_count": 13,
   "id": "98df8c188c16178b",
   "metadata": {
    "ExecuteTime": {
     "end_time": "2025-05-08T14:01:37.502520Z",
     "start_time": "2025-05-08T14:01:37.500581Z"
    }
   },
   "source": [
    "def norm(x, mu, sigma):\n",
    "    return (1 / (sigma * np.sqrt(2 * np.pi))) * np.exp(- (x - mu)**2 / (2 * sigma**2))"
   ],
   "outputs": []
  },
  {
   "cell_type": "code",
   "execution_count": 14,
   "id": "9c0c24563a4e7169",
   "metadata": {
    "ExecuteTime": {
     "end_time": "2025-05-08T14:01:37.542682Z",
     "start_time": "2025-05-08T14:01:37.503420Z"
    }
   },
   "source": [
    "mu = n * lmbda\n",
    "sigma = math.sqrt(n * lmbda)\n",
    "x = np.linspace(mu - 4*sigma, mu + 4*sigma, 1000)\n",
    "y = norm(x, mu, sigma)\n",
    "\n",
    "plt.plot(x, y)\n",
    "plt.show()"
   ],
   "outputs": []
  },
  {
   "cell_type": "code",
   "execution_count": 15,
   "id": "initial_id",
   "metadata": {
    "ExecuteTime": {
     "end_time": "2025-05-08T14:01:40.203696Z",
     "start_time": "2025-05-08T14:01:37.543810Z"
    }
   },
   "source": [
    "sum_of_random_vars = np.array([sum([gen.next_from_poisson(lmbda) for _ in range(0, n)]) for _ in range(0, num_of_samples + 1)])"
   ],
   "outputs": []
  },
  {
   "cell_type": "code",
   "execution_count": 16,
   "id": "224eca8299d6d7bb",
   "metadata": {
    "ExecuteTime": {
     "end_time": "2025-05-08T14:01:40.281182Z",
     "start_time": "2025-05-08T14:01:40.204846Z"
    }
   },
   "source": [
    "plt.figure(figsize=(8, 5))\n",
    "plt.hist(sum_of_random_vars, bins='auto', density=True, alpha=0.6, label='Normalized Histogram of Sum')\n",
    "plt.plot(x, y, 'r--', label='Normal Approximation')\n",
    "plt.title(\"Sum of Poisson Random Variables vs. Normal Distribution\")\n",
    "plt.xlabel(\"Sum\")\n",
    "plt.ylabel(\"Probability Density\")\n",
    "plt.grid(True)\n",
    "plt.legend()\n",
    "plt.show()"
   ],
   "outputs": []
  },
  {
   "cell_type": "code",
   "execution_count": 17,
   "id": "1b844efd4a731750",
   "metadata": {
    "ExecuteTime": {
     "end_time": "2025-05-08T14:02:55.260450Z",
     "start_time": "2025-05-08T14:02:41.004486Z"
    }
   },
   "source": [
    "step = 500\n",
    "frames = list(range(step, len(sum_of_random_vars) + 1, step))\n",
    "\n",
    "fig, ax = plt.subplots(figsize=(8, 5))\n",
    "\n",
    "def update(frame):\n",
    "    ax.clear()\n",
    "    current_data = sum_of_random_vars[:frame]\n",
    "    ax.hist(current_data, bins='auto', density=True, alpha=0.6, label=f'Samples shown: {frame}')\n",
    "    ax.plot(x, y, 'r--', label='Normal Approximation')\n",
    "    ax.set_title(\"Sum of Poisson Random Variables vs. Normal Distribution\")\n",
    "    ax.set_xlabel(\"Sum\")\n",
    "    ax.set_ylabel(\"Probability Density\")\n",
    "    ax.grid(True)\n",
    "    ax.legend()\n",
    "    ax.set_xlim(min(sum_of_random_vars), max(sum_of_random_vars))\n",
    "    ax.set_ylim(0, max(y) * 1.2) \n",
    "\n",
    "plt.close()  \n",
    "ani = FuncAnimation(fig, update, frames=frames, repeat=False)\n",
    "HTML(ani.to_jshtml())"
   ],
   "outputs": []
  },
  {
   "cell_type": "code",
   "execution_count": 18,
   "id": "7f6d9e9b04dfd7a9",
   "metadata": {
    "ExecuteTime": {
     "end_time": "2025-05-08T14:02:01.461940Z",
     "start_time": "2025-05-08T14:01:54.801524Z"
    }
   },
   "source": [
    "num_of_samples = 10000\n",
    "max_n = 50\n",
    "step = 5\n",
    "frames = list(range(1, max_n + 1, step))\n",
    "\n",
    "fig, ax = plt.subplots(figsize=(8, 5))\n",
    "\n",
    "def update(n):\n",
    "    ax.clear()\n",
    "    \n",
    "    # Generate a sum of n Poisson variables\n",
    "    sums = np.array([sum([gen.next_from_poisson(lmbda) for _ in range(0, n)]) for _ in range(0, num_of_samples + 1)])\n",
    "    \n",
    "    # Normal approximation\n",
    "    mu = n * lmbda\n",
    "    sigma = np.sqrt(n * lmbda)\n",
    "    x = np.linspace(mu - 4*sigma, mu + 4*sigma, 1000)\n",
    "    y = norm(x, mu, sigma)\n",
    "    \n",
    "    # Plot histogram and normal curve\n",
    "    ax.hist(sums, bins='auto', density=True, alpha=0.6, label=f'Sum of {n} variables')\n",
    "    ax.plot(x, y, 'r--', label='Normal Approximation')\n",
    "    ax.set_title(\"CLT: Sum of Poisson Random Variables\")\n",
    "    ax.set_xlabel(\"Sum\")\n",
    "    ax.set_ylabel(\"Probability Density\")\n",
    "    ax.set_xlim(0, max_n * lmbda + 20)\n",
    "    ax.set_ylim(0, 0.1)\n",
    "    ax.grid(True)\n",
    "    ax.legend()\n",
    "\n",
    "plt.close()\n",
    "ani = FuncAnimation(fig, update, frames=frames, repeat=False)\n",
    "HTML(ani.to_jshtml())"
   ],
   "outputs": []
  },
  {
   "cell_type": "code",
   "execution_count": null,
   "id": "fb1d11579058222a",
   "metadata": {
    "ExecuteTime": {
     "end_time": "2025-05-08T14:02:01.463864Z",
     "start_time": "2025-05-08T14:02:01.462523Z"
    }
   },
   "source": [],
   "outputs": []
  }
 ],
 "metadata": {
  "kernelspec": {
   "display_name": "Python 3 (ipykernel)",
   "language": "python",
   "name": "python3"
  },
  "language_info": {
   "codemirror_mode": {
    "name": "ipython",
    "version": 3
   },
   "file_extension": ".py",
   "mimetype": "text/x-python",
   "name": "python",
   "nbconvert_exporter": "python",
   "pygments_lexer": "ipython3",
   "version": "3.11.1"
  }
 },
 "nbformat": 4,
 "nbformat_minor": 5
}
