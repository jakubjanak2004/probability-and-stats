{
 "cells": [
  {
   "cell_type": "code",
   "id": "initial_id",
   "metadata": {
    "collapsed": true,
    "ExecuteTime": {
     "end_time": "2025-05-05T15:02:44.419530Z",
     "start_time": "2025-05-05T15:02:44.417278Z"
    }
   },
   "source": [
    "import math\n",
    "import numpy as np\n",
    "from graphs_utils import generate_graphs_for_data\n",
    "\n",
    "# My modules\n",
    "from generator import Generator"
   ],
   "execution_count": 35,
   "outputs": []
  },
  {
   "metadata": {},
   "cell_type": "markdown",
   "source": [
    "# Generator Test\n",
    "This notebook will be testing the correctness and quality of the generator objects that generates random numbers from various distributions.\n",
    "\n",
    "# Will be using tests to find out how random the numbers really are"
   ],
   "id": "db17443576b62671"
  },
  {
   "metadata": {
    "ExecuteTime": {
     "end_time": "2025-05-05T15:02:44.437634Z",
     "start_time": "2025-05-05T15:02:44.435880Z"
    }
   },
   "cell_type": "code",
   "source": "gen = Generator(12345)",
   "id": "f042c1defae68484",
   "execution_count": 36,
   "outputs": []
  },
  {
   "metadata": {
    "ExecuteTime": {
     "end_time": "2025-05-05T15:02:44.453046Z",
     "start_time": "2025-05-05T15:02:44.450560Z"
    }
   },
   "cell_type": "code",
   "source": [
    "n1 = 10\n",
    "n2 = 1000\n",
    "start = 0\n",
    "end = 100\n",
    "random_doubles = np.array([gen.next_double_from_to(end=end) for _ in range(0, n1)])\n",
    "\n",
    "random_doubles_big_numbers = np.array([gen.next_double_from_to(end=end) for _ in range(0, n2)])"
   ],
   "id": "2303946469335092",
   "execution_count": 37,
   "outputs": []
  },
  {
   "metadata": {
    "ExecuteTime": {
     "end_time": "2025-05-05T15:02:44.568756Z",
     "start_time": "2025-05-05T15:02:44.453945Z"
    }
   },
   "cell_type": "code",
   "source": "generate_graphs_for_data(random_doubles)",
   "id": "22e87b31e172d40b",
   "execution_count": 38,
   "outputs": []
  },
  {
   "metadata": {
    "ExecuteTime": {
     "end_time": "2025-05-05T15:02:44.676111Z",
     "start_time": "2025-05-05T15:02:44.569550Z"
    }
   },
   "cell_type": "code",
   "source": "generate_graphs_for_data(random_doubles_big_numbers)",
   "id": "c13e47ae9ed5a05a",
   "execution_count": 39,
   "outputs": []
  },
  {
   "metadata": {},
   "cell_type": "markdown",
   "source": [
    "# Analysis of distribution\n",
    "\n",
    "Now let's analyze the distribution of the generated random doubles.\n",
    "\n",
    "## Method of Moments(MoM)\n",
    "\n",
    "Using the first-moment being the expected value $\\mathbb{E}X$ the MoM works like this: \n",
    "\n",
    "$$ \n",
    "\\mathbb{E}X = \\hat{X}_n \\\\\n",
    "\\operatorname{Var}(X) = \\hat{S}_n\n",
    "$$\n",
    "\n",
    "in case of Uniform distribution that we use in method next_double_from_to the:\n",
    "\n",
    "$$\n",
    "\\mathbb{E}X = \\frac{a + b}{2} \\\\\n",
    "\\operatorname{Var}(X) = \\frac{(b - a)^2}{12}\n",
    "$$\n",
    "\n",
    "we set equations\n",
    "\n",
    "$$\n",
    "\\frac{\\hat{a} + \\hat{b}}{2} = \\hat{X}_n \\\\\n",
    "\\frac{(\\hat{b} - \\hat{a})^2}{12} = \\hat{S}_n\n",
    "$$\n",
    "\n",
    "by solving for $\\hat{a}$ and $\\hat{b}$ we obtain\n",
    "\n",
    "$$\n",
    "\\hat{a} = \\hat{X}_n - \\sqrt{3\\hat{S}_n} \\\\\n",
    "\\hat{b} = \\hat{X}_n + \\sqrt{3\\hat{S}_n}\n",
    "$$\n",
    "\n",
    "our expectations are\n",
    "\n",
    "$$\n",
    "\\hat{a} = 0 \\\\\n",
    "\\hat{b} = 100\n",
    "$$"
   ],
   "id": "12e0dc205a57383a"
  },
  {
   "metadata": {
    "ExecuteTime": {
     "end_time": "2025-05-05T15:02:44.680164Z",
     "start_time": "2025-05-05T15:02:44.677619Z"
    }
   },
   "cell_type": "code",
   "source": [
    "X_hat1 = random_doubles.mean()\n",
    "S_hat1 = random_doubles.var()\n",
    "X_hat2 = random_doubles_big_numbers.mean()\n",
    "S_hat2 = random_doubles_big_numbers.var()\n",
    "\n",
    "a_hat1 = X_hat1 - math.sqrt(3 * S_hat1)\n",
    "b_hat1 = X_hat1 + math.sqrt(3 * S_hat1)\n",
    "a_hat2 = X_hat2 - math.sqrt(3 * S_hat2)\n",
    "b_hat2 = X_hat2 + math.sqrt(3 * S_hat2)\n",
    "\n",
    "print('Parameters for small number of values generated')\n",
    "print('a_hat =', a_hat1)\n",
    "print('b_hat =', b_hat1)\n",
    "print('\\nParameters for big number of values generated')\n",
    "print('a_hat =', a_hat2)\n",
    "print('b_hat =', b_hat2)"
   ],
   "id": "79602f4c63a6402f",
   "execution_count": 40,
   "outputs": []
  },
  {
   "metadata": {},
   "cell_type": "markdown",
   "source": [
    "## Generating values from exponential distribution\n",
    "\n",
    "Now we are going to generate values from exponential distribution using the Generator object."
   ],
   "id": "966670c7b24a37cf"
  },
  {
   "metadata": {
    "ExecuteTime": {
     "end_time": "2025-05-05T15:02:44.683152Z",
     "start_time": "2025-05-05T15:02:44.680839Z"
    }
   },
   "cell_type": "code",
   "source": "random_exp_values = np.array([gen.next_from_exp(1.5) for _ in range(0, n2)])",
   "id": "5297af7a29763a6c",
   "execution_count": 41,
   "outputs": []
  },
  {
   "metadata": {
    "ExecuteTime": {
     "end_time": "2025-05-05T15:02:44.787417Z",
     "start_time": "2025-05-05T15:02:44.683738Z"
    }
   },
   "cell_type": "code",
   "source": "generate_graphs_for_data(random_exp_values)",
   "id": "976eb407d677efbd",
   "execution_count": 42,
   "outputs": []
  },
  {
   "metadata": {},
   "cell_type": "markdown",
   "source": [
    "## Method of Moments (MoM) for Exponential Distribution\n",
    "\n",
    "Let \\( X \\sim \\text{Exp}(\\lambda) \\).\n",
    "\n",
    "We know the moments of the exponential distribution:\n",
    "\n",
    "$$\n",
    "\\mathbb{E}X = \\frac{1}{\\lambda}, \\quad\n",
    "\\operatorname{Var}(X) = \\frac{1}{\\lambda^2}\n",
    "$$\n",
    "\n",
    "From the sample, we estimate:\n",
    "\n",
    "$$\n",
    "\\mathbb{E}X \\approx \\bar{X}_n, \\quad\n",
    "\\operatorname{Var}(X) \\approx S_n^2\n",
    "$$\n",
    "\n",
    "So the method of moments estimator for \\( \\lambda \\) is:\n",
    "\n",
    "$$\n",
    "\\hat{\\lambda}_{\\text{MoM}} = \\frac{1}{\\bar{X}_n}\n",
    "$$\n",
    "\n",
    "or (less commonly, based on the variance):\n",
    "\n",
    "$$\n",
    "\\hat{\\lambda}_{\\text{MoM}} = \\frac{1}{\\sqrt{S_n^2}}\n",
    "$$\n",
    "\n",
    "The expectation is for the $\\hat{\\lambda}$ to be 1.5"
   ],
   "id": "7d42986d25156b3f"
  },
  {
   "metadata": {
    "ExecuteTime": {
     "end_time": "2025-05-05T15:02:44.790417Z",
     "start_time": "2025-05-05T15:02:44.788175Z"
    }
   },
   "cell_type": "code",
   "source": [
    "lmbda1 = 1 / random_exp_values.mean()\n",
    "lmbda2 = 1 / math.sqrt(random_exp_values.var())\n",
    "\n",
    "print('lambda calculated from expected value =', lmbda1)\n",
    "print('lambda calculated from variance =', lmbda2)"
   ],
   "id": "a30617bd8e61a37e",
   "execution_count": 43,
   "outputs": []
  },
  {
   "metadata": {},
   "cell_type": "markdown",
   "source": [
    "## Maximum Likelihood Estimation (MLE)\n",
    "\n",
    "We define Maximum Likelihood Estimation for the single-parameter case \\( \\theta \\).\n",
    "\n",
    "### Discrete case:\n",
    "\n",
    "$$\n",
    "\\begin{aligned}\n",
    "1. \\quad & \\mathcal{L}(\\theta) = \\prod_{i=1}^{n} P_\\theta(X = x_i) \\\\\n",
    "2. \\quad & \\ell(\\theta) = \\sum_{i=1}^{n} \\log\\left(P_\\theta(X = x_i)\\right) \\\\\n",
    "3. \\quad & \\frac{\\partial \\ell(\\theta)}{\\partial \\theta} = 0 \\\\\n",
    "4. \\quad & \\hat{\\theta} \\text{ is the solution}\n",
    "\\end{aligned}\n",
    "$$\n",
    "\n",
    "## Continuous case:\n",
    "\n",
    "$$\n",
    "\\begin{aligned}\n",
    "1. \\quad & \\mathcal{L}(\\theta) = \\prod_{i=1}^{n} f_\\theta(x_i) \\\\\n",
    "2. \\quad & \\ell(\\theta) = \\sum_{i=1}^{n} \\log\\left(f_\\theta(x_i)\\right) \\\\\n",
    "3. \\quad & \\frac{\\partial \\ell(\\theta)}{\\partial \\theta} = 0 \\\\\n",
    "4. \\quad & \\hat{\\theta} \\text{ is the solution}\n",
    "\\end{aligned}\n",
    "$$\n",
    "\n",
    "We will use the **continuous case** to analyze values generated from the exponential distribution, since it is a continuous distribution.\n",
    "\n",
    "In the case of the exponential distribution, both the **Method of Moments** and the **Maximum Likelihood Estimation** lead to the **same estimator**:\n",
    "\n",
    "$$\n",
    "\\hat{\\lambda} = \\frac{1}{\\bar{X}}\n",
    "$$\n",
    "\n",
    "This happens because the exponential distribution has only one parameter and its first moment (mean) uniquely determines the distribution.\n"
   ],
   "id": "955449528d10d6d8"
  },
  {
   "metadata": {
    "ExecuteTime": {
     "end_time": "2025-05-05T15:02:44.792107Z",
     "start_time": "2025-05-05T15:02:44.790928Z"
    }
   },
   "cell_type": "code",
   "source": "",
   "id": "13c23bf234273a18",
   "execution_count": 43,
   "outputs": []
  }
 ],
 "metadata": {
  "kernelspec": {
   "display_name": "Python 3",
   "language": "python",
   "name": "python3"
  },
  "language_info": {
   "codemirror_mode": {
    "name": "ipython",
    "version": 2
   },
   "file_extension": ".py",
   "mimetype": "text/x-python",
   "name": "python",
   "nbconvert_exporter": "python",
   "pygments_lexer": "ipython2",
   "version": "2.7.6"
  }
 },
 "nbformat": 4,
 "nbformat_minor": 5
}
