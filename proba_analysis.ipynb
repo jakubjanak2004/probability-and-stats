{
 "cells": [
  {
   "cell_type": "code",
   "id": "initial_id",
   "metadata": {
    "collapsed": true,
    "ExecuteTime": {
     "end_time": "2025-05-08T13:19:31.258023Z",
     "start_time": "2025-05-08T13:19:30.979749Z"
    }
   },
   "source": [
    "import numpy as np\n",
    "import matplotlib.pyplot as plt\n",
    "from generator import Generator\n",
    "import math\n",
    "from collections import defaultdict\n",
    "from itertools import permutations"
   ],
   "execution_count": 2,
   "outputs": []
  },
  {
   "metadata": {
    "ExecuteTime": {
     "end_time": "2025-05-08T13:19:31.310086Z",
     "start_time": "2025-05-08T13:19:31.307985Z"
    }
   },
   "cell_type": "code",
   "source": "gen = Generator(12345)",
   "id": "e8c902c420a49399",
   "execution_count": 3,
   "outputs": []
  },
  {
   "metadata": {
    "ExecuteTime": {
     "end_time": "2025-05-08T13:19:31.636920Z",
     "start_time": "2025-05-08T13:19:31.634592Z"
    }
   },
   "cell_type": "code",
   "source": [
    "num_of_samples = 1000\n",
    "num_processes = 10"
   ],
   "id": "5d7683bb96b421e0",
   "execution_count": 4,
   "outputs": []
  },
  {
   "metadata": {
    "ExecuteTime": {
     "end_time": "2025-05-08T13:19:32.020885Z",
     "start_time": "2025-05-08T13:19:31.935150Z"
    }
   },
   "cell_type": "code",
   "source": [
    "for _ in range(num_processes):\n",
    "    samples = np.array(gen.choices((3, -2), (.5, .5), k = num_of_samples))\n",
    "    process = samples.cumsum()\n",
    "    plt.plot(process, alpha=.6)\n",
    "\n",
    "exp_process = num_of_samples * 0.5\n",
    "plt.axhline(y=exp_process, color='red', linestyle='--', linewidth=2, label='Expected Value')\n",
    "\n",
    "plt.title(f\"{num_processes} Simulated Processes (cumulative sum of samples)\")\n",
    "plt.grid(True)\n",
    "plt.legend()\n",
    "plt.xlabel(\"Step\")\n",
    "plt.ylabel(\"Cumulative Sum\")\n",
    "plt.show()"
   ],
   "id": "8dd4ac0b317d1c53",
   "execution_count": 5,
   "outputs": []
  },
  {
   "metadata": {
    "ExecuteTime": {
     "end_time": "2025-05-08T13:19:32.321722Z",
     "start_time": "2025-05-08T13:19:32.254180Z"
    }
   },
   "cell_type": "code",
   "source": [
    "for _ in range(num_processes):\n",
    "    samples = np.array(gen.choices((1, -1), (.5, .5), k = num_of_samples))\n",
    "    process = samples.cumsum()\n",
    "    plt.plot(process, alpha=.3)\n",
    "\n",
    "exp_process = 0\n",
    "plt.axhline(y=exp_process, color='red', linestyle='--', linewidth=2, label='Expected Value')\n",
    "\n",
    "plt.title(f\"{num_processes} Simulated Processes (cumulative sum of samples)\")\n",
    "plt.grid(True)\n",
    "plt.legend()\n",
    "plt.xlabel(\"Step\")\n",
    "plt.ylabel(\"Cumulative Sum\")\n",
    "plt.show()"
   ],
   "id": "fe0858fa21f78044",
   "execution_count": 6,
   "outputs": []
  },
  {
   "metadata": {},
   "cell_type": "markdown",
   "source": [
    "## Assistant Hiring Problem Simulation\n",
    "..."
   ],
   "id": "e300734a958e33ba"
  },
  {
   "metadata": {
    "ExecuteTime": {
     "end_time": "2025-05-08T13:33:46.303552Z",
     "start_time": "2025-05-08T13:33:46.224311Z"
    }
   },
   "cell_type": "code",
   "source": [
    "num_of_samples = 100\n",
    "num_of_processes = 50\n",
    "interview_cost = .5\n",
    "cost_of_hiring = 10\n",
    "\n",
    "for _ in range(1, num_of_processes):\n",
    "    samples = []\n",
    "    for i in range(1, num_of_samples + 1):\n",
    "        samples.append(gen.choices((cost_of_hiring, 0), (1/i, 1-(1/i)))[0] + interview_cost)\n",
    "    samples = np.array(samples)\n",
    "    process = samples.cumsum()\n",
    "    plt.plot(process, alpha=.3)\n",
    "\n",
    "exp_process = sum([1/i*cost_of_hiring for i in range(1, num_of_samples + 1)]) + num_of_samples * interview_cost\n",
    "avg_costs = interview_cost * num_of_samples + cost_of_hiring * math.log(num_of_samples)\n",
    "\n",
    "plt.axhline(y=exp_process, color='green', linestyle='--', linewidth=2, label='Expected Value')\n",
    "plt.axhline(y=avg_costs, color='blue', linestyle='--', linewidth=2, label='O(int_cost * n + hire_cost * ln(n))')\n",
    "\n",
    "plt.title(f\"{num_processes} Simulated Processes (cumulative sum of samples)\")\n",
    "plt.grid(True)\n",
    "plt.legend()\n",
    "plt.xlabel(\"Step\")\n",
    "plt.ylabel(\"Cumulative Sum\")\n",
    "plt.show()"
   ],
   "id": "367dbde70a4348c1",
   "execution_count": 27,
   "outputs": []
  },
  {
   "metadata": {},
   "cell_type": "markdown",
   "source": [
    "## Price Picking \n",
    "..."
   ],
   "id": "69b4d85e2253bc53"
  },
  {
   "metadata": {
    "ExecuteTime": {
     "end_time": "2025-05-08T13:31:15.975126Z",
     "start_time": "2025-05-08T13:31:15.908143Z"
    }
   },
   "cell_type": "code",
   "source": [
    "num_of_samples = 100\n",
    "num_of_processes = 100\n",
    "above_t = 0\n",
    "\n",
    "for _ in range(1, num_of_processes):\n",
    "    samples = []\n",
    "    for i in range(1, num_of_samples + 1):\n",
    "        samples.append(gen.choices((-1, 0), (1/i, 1-(1/i)))[0])\n",
    "    samples = np.array(samples)\n",
    "    process = samples.cumsum()\n",
    "    if process[-1] > -10:\n",
    "        above_t += 1\n",
    "    plt.plot(process, alpha=.3)    \n",
    "\n",
    "print('Processes:', num_of_processes)\n",
    "print('Above Threshold:', above_t)    \n",
    "print('A/P:', above_t / num_of_processes)\n",
    "\n",
    "exp_process = sum([-1/i for i in range(1, num_of_samples + 1)])\n",
    "plt.axhline(y=exp_process, color='green', linestyle='--', linewidth=2, label='Expected Value')\n",
    "plt.axhline(y=-10, color='red', linestyle='--', linewidth=2, label='Expected Value')\n",
    "\n",
    "plt.show()"
   ],
   "id": "aa4f995b98aa6126",
   "execution_count": 24,
   "outputs": []
  },
  {
   "metadata": {},
   "cell_type": "markdown",
   "source": [
    "## Random Permutation\n",
    "..."
   ],
   "id": "635e2e45064689d6"
  },
  {
   "metadata": {
    "ExecuteTime": {
     "end_time": "2025-05-08T09:54:51.644453Z",
     "start_time": "2025-05-08T09:54:51.642340Z"
    }
   },
   "cell_type": "code",
   "source": [
    "def permute_by_sorting(a):\n",
    "    n = len(a)\n",
    "    p = [gen.next_double_from_to(end=n ** 3) for _ in range(n)]\n",
    "    paired = list(zip(p, a))\n",
    "    paired.sort(key=lambda x: x[0])\n",
    "    return tuple(item for _,item in paired)"
   ],
   "id": "cd858333f3f5c423",
   "execution_count": 7,
   "outputs": []
  },
  {
   "metadata": {
    "ExecuteTime": {
     "end_time": "2025-05-08T09:54:51.646918Z",
     "start_time": "2025-05-08T09:54:51.645140Z"
    }
   },
   "cell_type": "code",
   "source": [
    "def permute_by_switching(a):\n",
    "    n = len(a)\n",
    "    for i in range(n):\n",
    "        j = gen.next_int_from_to(i, n - 1)\n",
    "        a[i], a[j] = a[j], a[i]"
   ],
   "id": "7cb8fa8de4840f1d",
   "execution_count": 8,
   "outputs": []
  },
  {
   "metadata": {
    "ExecuteTime": {
     "end_time": "2025-05-08T09:58:45.406279Z",
     "start_time": "2025-05-08T09:58:44.940324Z"
    }
   },
   "cell_type": "code",
   "source": [
    "trials = 100_000\n",
    "array = [1, 2, 3, 4]\n",
    "array_swap = array.copy()\n",
    "\n",
    "counts_sort = defaultdict(int)\n",
    "counts_swap = defaultdict(int)\n",
    "\n",
    "expected_perms = sorted(permutations(array))\n",
    "\n",
    "for _ in range(trials):\n",
    "    result = permute_by_sorting(array)\n",
    "    counts_sort[result] += 1\n",
    "    \n",
    "    permute_by_switching(array_swap)\n",
    "    counts_swap[tuple(array_swap)] += 1"
   ],
   "id": "641fd615da1c53a9",
   "execution_count": 15,
   "outputs": []
  },
  {
   "metadata": {
    "ExecuteTime": {
     "end_time": "2025-05-08T09:58:45.482339Z",
     "start_time": "2025-05-08T09:58:45.407358Z"
    }
   },
   "cell_type": "code",
   "source": [
    "labels = [''.join(map(str, p)) for p in expected_perms]\n",
    "frequencies = [counts_sort[p] for p in expected_perms]\n",
    "x = range(len(labels))  \n",
    "\n",
    "# Plot\n",
    "plt.figure(figsize=(10, 5))\n",
    "plt.bar(x, frequencies, color='skyblue', edgecolor='black')\n",
    "plt.xticks(ticks=x, labels=labels, rotation=45)\n",
    "plt.title('Permutation Frequencies for each possible Permutation', fontsize=14)\n",
    "plt.xlabel('Permutation', fontsize=12)\n",
    "plt.ylabel(f'Frequency (out of {trials})', fontsize=12)\n",
    "plt.grid(axis='y', linestyle='--', alpha=0.7)\n",
    "plt.tight_layout()\n",
    "plt.show()"
   ],
   "id": "b3e64080d2ca33d3",
   "execution_count": 16,
   "outputs": []
  },
  {
   "metadata": {
    "ExecuteTime": {
     "end_time": "2025-05-08T09:59:13.927016Z",
     "start_time": "2025-05-08T09:59:13.843007Z"
    }
   },
   "cell_type": "code",
   "source": [
    "frequencies = [counts_swap[p] for p in expected_perms]\n",
    "\n",
    "# Plot\n",
    "plt.figure(figsize=(10, 5))\n",
    "plt.bar(x, frequencies, color='skyblue', edgecolor='black')\n",
    "plt.xticks(ticks=x, labels=labels, rotation=45)\n",
    "plt.title('Permutation Frequencies for each possible Permutation', fontsize=14)\n",
    "plt.xlabel('Permutation', fontsize=12)\n",
    "plt.ylabel(f'Frequency (out of {trials})', fontsize=12)\n",
    "plt.grid(axis='y', linestyle='--', alpha=0.7)\n",
    "plt.tight_layout()\n",
    "plt.show()"
   ],
   "id": "316aff32f5c51197",
   "execution_count": 19,
   "outputs": []
  },
  {
   "metadata": {
    "ExecuteTime": {
     "end_time": "2025-05-08T09:54:51.852026Z",
     "start_time": "2025-05-08T09:54:51.850692Z"
    }
   },
   "cell_type": "code",
   "source": "",
   "id": "e114ac8960bd2f6f",
   "execution_count": 11,
   "outputs": []
  }
 ],
 "metadata": {
  "kernelspec": {
   "display_name": "Python 3",
   "language": "python",
   "name": "python3"
  },
  "language_info": {
   "codemirror_mode": {
    "name": "ipython",
    "version": 2
   },
   "file_extension": ".py",
   "mimetype": "text/x-python",
   "name": "python",
   "nbconvert_exporter": "python",
   "pygments_lexer": "ipython2",
   "version": "2.7.6"
  }
 },
 "nbformat": 4,
 "nbformat_minor": 5
}
